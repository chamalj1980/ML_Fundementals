{
  "nbformat": 4,
  "nbformat_minor": 0,
  "metadata": {
    "colab": {
      "name": "MLFoundations-Quiz-01.ipynb",
      "provenance": [],
      "collapsed_sections": [],
      "include_colab_link": true
    },
    "kernelspec": {
      "name": "python3",
      "display_name": "Python 3"
    },
    "language_info": {
      "name": "python"
    }
  },
  "cells": [
    {
      "cell_type": "markdown",
      "metadata": {
        "id": "view-in-github",
        "colab_type": "text"
      },
      "source": [
        "<a href=\"https://colab.research.google.com/github/chamalj1980/ML_Fundementals/blob/main/MLFoundations_Quiz_01.ipynb\" target=\"_parent\"><img src=\"https://colab.research.google.com/assets/colab-badge.svg\" alt=\"Open In Colab\"/></a>"
      ]
    },
    {
      "cell_type": "markdown",
      "metadata": {
        "id": "yRJKZ3JzD1qv"
      },
      "source": [
        "# Dataset: Zoo database \n",
        "Reference: Dua, D. and Graff, C. (2019). UCI Machine Learning Repository [http://archive.ics.uci.edu/ml]. Irvine, CA: University of California, School of Information and Computer Science. "
      ]
    },
    {
      "cell_type": "markdown",
      "metadata": {
        "id": "bUH66kVQeLvz"
      },
      "source": [
        "# Student Name: Chamila Wijayawardhana\n",
        "# Date : 24th October 2021"
      ]
    },
    {
      "cell_type": "markdown",
      "metadata": {
        "id": "hEzWLTnPBgif"
      },
      "source": [
        "# Assignment Instructions\n",
        "* You will be given 10 tasks to complete the code cells.\n",
        "* Provide your code ONLY in between hash (#) lines.\n",
        "* Do not add or moidfy code outside the hash (#) lines\n",
        "* Example answer is provided for some tasks\n",
        "\n",
        "### Example:\n",
        "Task 0: create variable nameed `a` and assign value `3.14`. Then print the value of `a`.\n",
        "\n",
        "```python\n",
        "###############################\n",
        "a = 3.14\n",
        "print(a)\n",
        "###############################\n",
        "```\n",
        "\n"
      ]
    },
    {
      "cell_type": "markdown",
      "metadata": {
        "id": "Dtumfyuk-9tg"
      },
      "source": [
        "## 1. Load Python Modules"
      ]
    },
    {
      "cell_type": "code",
      "metadata": {
        "id": "dOHDFQl3-gq6"
      },
      "source": [
        "import numpy as np\n",
        "import pandas as pd\n",
        "import matplotlib.pyplot as plt\n",
        "import seaborn as sns\n",
        "\n",
        "from sklearn import tree\n",
        "from sklearn.tree import DecisionTreeClassifier\n",
        "from sklearn.model_selection import train_test_split\n",
        "from sklearn import metrics"
      ],
      "execution_count": 33,
      "outputs": []
    },
    {
      "cell_type": "markdown",
      "metadata": {
        "id": "8PWD7IAT-6VZ"
      },
      "source": [
        "## 2. Load Data"
      ]
    },
    {
      "cell_type": "code",
      "metadata": {
        "id": "cT5UlBts-1rg",
        "colab": {
          "base_uri": "https://localhost:8080/",
          "height": 202
        },
        "outputId": "0dfb318a-545f-4a69-b619-62ff8af130e0"
      },
      "source": [
        "file_name = 'https://archive.ics.uci.edu/ml/machine-learning-databases/zoo/zoo.data'\n",
        "\n",
        "# Load CSV File\n",
        "data = pd.read_csv(file_name, sep=',', header=None)\n",
        "data.sample(5)"
      ],
      "execution_count": 34,
      "outputs": [
        {
          "output_type": "execute_result",
          "data": {
            "text/html": [
              "<div>\n",
              "<style scoped>\n",
              "    .dataframe tbody tr th:only-of-type {\n",
              "        vertical-align: middle;\n",
              "    }\n",
              "\n",
              "    .dataframe tbody tr th {\n",
              "        vertical-align: top;\n",
              "    }\n",
              "\n",
              "    .dataframe thead th {\n",
              "        text-align: right;\n",
              "    }\n",
              "</style>\n",
              "<table border=\"1\" class=\"dataframe\">\n",
              "  <thead>\n",
              "    <tr style=\"text-align: right;\">\n",
              "      <th></th>\n",
              "      <th>0</th>\n",
              "      <th>1</th>\n",
              "      <th>2</th>\n",
              "      <th>3</th>\n",
              "      <th>4</th>\n",
              "      <th>5</th>\n",
              "      <th>6</th>\n",
              "      <th>7</th>\n",
              "      <th>8</th>\n",
              "      <th>9</th>\n",
              "      <th>10</th>\n",
              "      <th>11</th>\n",
              "      <th>12</th>\n",
              "      <th>13</th>\n",
              "      <th>14</th>\n",
              "      <th>15</th>\n",
              "      <th>16</th>\n",
              "      <th>17</th>\n",
              "    </tr>\n",
              "  </thead>\n",
              "  <tbody>\n",
              "    <tr>\n",
              "      <th>91</th>\n",
              "      <td>tuatara</td>\n",
              "      <td>0</td>\n",
              "      <td>0</td>\n",
              "      <td>1</td>\n",
              "      <td>0</td>\n",
              "      <td>0</td>\n",
              "      <td>0</td>\n",
              "      <td>1</td>\n",
              "      <td>1</td>\n",
              "      <td>1</td>\n",
              "      <td>1</td>\n",
              "      <td>0</td>\n",
              "      <td>0</td>\n",
              "      <td>4</td>\n",
              "      <td>1</td>\n",
              "      <td>0</td>\n",
              "      <td>0</td>\n",
              "      <td>3</td>\n",
              "    </tr>\n",
              "    <tr>\n",
              "      <th>29</th>\n",
              "      <td>girl</td>\n",
              "      <td>1</td>\n",
              "      <td>0</td>\n",
              "      <td>0</td>\n",
              "      <td>1</td>\n",
              "      <td>0</td>\n",
              "      <td>0</td>\n",
              "      <td>1</td>\n",
              "      <td>1</td>\n",
              "      <td>1</td>\n",
              "      <td>1</td>\n",
              "      <td>0</td>\n",
              "      <td>0</td>\n",
              "      <td>2</td>\n",
              "      <td>0</td>\n",
              "      <td>1</td>\n",
              "      <td>1</td>\n",
              "      <td>1</td>\n",
              "    </tr>\n",
              "    <tr>\n",
              "      <th>96</th>\n",
              "      <td>wallaby</td>\n",
              "      <td>1</td>\n",
              "      <td>0</td>\n",
              "      <td>0</td>\n",
              "      <td>1</td>\n",
              "      <td>0</td>\n",
              "      <td>0</td>\n",
              "      <td>0</td>\n",
              "      <td>1</td>\n",
              "      <td>1</td>\n",
              "      <td>1</td>\n",
              "      <td>0</td>\n",
              "      <td>0</td>\n",
              "      <td>2</td>\n",
              "      <td>1</td>\n",
              "      <td>0</td>\n",
              "      <td>1</td>\n",
              "      <td>1</td>\n",
              "    </tr>\n",
              "    <tr>\n",
              "      <th>82</th>\n",
              "      <td>sole</td>\n",
              "      <td>0</td>\n",
              "      <td>0</td>\n",
              "      <td>1</td>\n",
              "      <td>0</td>\n",
              "      <td>0</td>\n",
              "      <td>1</td>\n",
              "      <td>0</td>\n",
              "      <td>1</td>\n",
              "      <td>1</td>\n",
              "      <td>0</td>\n",
              "      <td>0</td>\n",
              "      <td>1</td>\n",
              "      <td>0</td>\n",
              "      <td>1</td>\n",
              "      <td>0</td>\n",
              "      <td>0</td>\n",
              "      <td>4</td>\n",
              "    </tr>\n",
              "    <tr>\n",
              "      <th>0</th>\n",
              "      <td>aardvark</td>\n",
              "      <td>1</td>\n",
              "      <td>0</td>\n",
              "      <td>0</td>\n",
              "      <td>1</td>\n",
              "      <td>0</td>\n",
              "      <td>0</td>\n",
              "      <td>1</td>\n",
              "      <td>1</td>\n",
              "      <td>1</td>\n",
              "      <td>1</td>\n",
              "      <td>0</td>\n",
              "      <td>0</td>\n",
              "      <td>4</td>\n",
              "      <td>0</td>\n",
              "      <td>0</td>\n",
              "      <td>1</td>\n",
              "      <td>1</td>\n",
              "    </tr>\n",
              "  </tbody>\n",
              "</table>\n",
              "</div>"
            ],
            "text/plain": [
              "          0   1   2   3   4   5   6   7   ...  10  11  12  13  14  15  16  17\n",
              "91   tuatara   0   0   1   0   0   0   1  ...   1   0   0   4   1   0   0   3\n",
              "29      girl   1   0   0   1   0   0   1  ...   1   0   0   2   0   1   1   1\n",
              "96   wallaby   1   0   0   1   0   0   0  ...   1   0   0   2   1   0   1   1\n",
              "82      sole   0   0   1   0   0   1   0  ...   0   0   1   0   1   0   0   4\n",
              "0   aardvark   1   0   0   1   0   0   1  ...   1   0   0   4   0   0   1   1\n",
              "\n",
              "[5 rows x 18 columns]"
            ]
          },
          "metadata": {},
          "execution_count": 34
        }
      ]
    },
    {
      "cell_type": "markdown",
      "metadata": {
        "id": "TwjzLHHZA-f4"
      },
      "source": [
        "## 3. Assign Column Names to DataFrame\n",
        "* Column names are given as a list below.\n",
        "* Task 1: Complete to code to assign column names to the dataframe\n",
        ">![image.png](data:image/png;base64,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)\n",
        "```\n"
      ]
    },
    {
      "cell_type": "code",
      "metadata": {
        "id": "xwSOcQ7a_D0_",
        "colab": {
          "base_uri": "https://localhost:8080/",
          "height": 202
        },
        "outputId": "bc15fb45-965f-4504-95af-dba596d82eda"
      },
      "source": [
        "colum_headers = ['animal name', \n",
        "                  'hair',\t\t\n",
        "                  'feathers',\t\n",
        "                  'eggs',\t\t\n",
        "                  'milk',\t\t\n",
        "                  'airborne',\t\n",
        "                  'aquatic',\n",
        "                  'predator',\t\n",
        "                  'toothed'\t,\n",
        "                  'backbone',\t\n",
        "                  'breathes',\t\n",
        "                  'venomous',\t\n",
        "                  'fins',\t\t\n",
        "                  'legs',\t\t\n",
        "                  'tail',\t\t\n",
        "                  'domestic',\t\n",
        "                  'catsize',\n",
        "                  'animal_type'\n",
        "                  ]\n",
        "\n",
        "#############################################################\n",
        "# Task1: Type your code below to assign above column names to the dataframe\n",
        "\n",
        "data.columns = ['animal name', \n",
        "                  'hair',\t\t\n",
        "                  'feathers',\t\n",
        "                  'eggs',\t\t\n",
        "                  'milk',\t\t\n",
        "                  'airborne',\t\n",
        "                  'aquatic',\n",
        "                  'predator',\t\n",
        "                  'toothed'\t,\n",
        "                  'backbone',\t\n",
        "                  'breathes',\t\n",
        "                  'venomous',\t\n",
        "                  'fins',\t\t\n",
        "                  'legs',\t\t\n",
        "                  'tail',\t\t\n",
        "                  'domestic',\t\n",
        "                  'catsize',\n",
        "                  'animal_type']\n",
        "\n",
        "#############################################################\n",
        "\n",
        "data.head()"
      ],
      "execution_count": 35,
      "outputs": [
        {
          "output_type": "execute_result",
          "data": {
            "text/html": [
              "<div>\n",
              "<style scoped>\n",
              "    .dataframe tbody tr th:only-of-type {\n",
              "        vertical-align: middle;\n",
              "    }\n",
              "\n",
              "    .dataframe tbody tr th {\n",
              "        vertical-align: top;\n",
              "    }\n",
              "\n",
              "    .dataframe thead th {\n",
              "        text-align: right;\n",
              "    }\n",
              "</style>\n",
              "<table border=\"1\" class=\"dataframe\">\n",
              "  <thead>\n",
              "    <tr style=\"text-align: right;\">\n",
              "      <th></th>\n",
              "      <th>animal name</th>\n",
              "      <th>hair</th>\n",
              "      <th>feathers</th>\n",
              "      <th>eggs</th>\n",
              "      <th>milk</th>\n",
              "      <th>airborne</th>\n",
              "      <th>aquatic</th>\n",
              "      <th>predator</th>\n",
              "      <th>toothed</th>\n",
              "      <th>backbone</th>\n",
              "      <th>breathes</th>\n",
              "      <th>venomous</th>\n",
              "      <th>fins</th>\n",
              "      <th>legs</th>\n",
              "      <th>tail</th>\n",
              "      <th>domestic</th>\n",
              "      <th>catsize</th>\n",
              "      <th>animal_type</th>\n",
              "    </tr>\n",
              "  </thead>\n",
              "  <tbody>\n",
              "    <tr>\n",
              "      <th>0</th>\n",
              "      <td>aardvark</td>\n",
              "      <td>1</td>\n",
              "      <td>0</td>\n",
              "      <td>0</td>\n",
              "      <td>1</td>\n",
              "      <td>0</td>\n",
              "      <td>0</td>\n",
              "      <td>1</td>\n",
              "      <td>1</td>\n",
              "      <td>1</td>\n",
              "      <td>1</td>\n",
              "      <td>0</td>\n",
              "      <td>0</td>\n",
              "      <td>4</td>\n",
              "      <td>0</td>\n",
              "      <td>0</td>\n",
              "      <td>1</td>\n",
              "      <td>1</td>\n",
              "    </tr>\n",
              "    <tr>\n",
              "      <th>1</th>\n",
              "      <td>antelope</td>\n",
              "      <td>1</td>\n",
              "      <td>0</td>\n",
              "      <td>0</td>\n",
              "      <td>1</td>\n",
              "      <td>0</td>\n",
              "      <td>0</td>\n",
              "      <td>0</td>\n",
              "      <td>1</td>\n",
              "      <td>1</td>\n",
              "      <td>1</td>\n",
              "      <td>0</td>\n",
              "      <td>0</td>\n",
              "      <td>4</td>\n",
              "      <td>1</td>\n",
              "      <td>0</td>\n",
              "      <td>1</td>\n",
              "      <td>1</td>\n",
              "    </tr>\n",
              "    <tr>\n",
              "      <th>2</th>\n",
              "      <td>bass</td>\n",
              "      <td>0</td>\n",
              "      <td>0</td>\n",
              "      <td>1</td>\n",
              "      <td>0</td>\n",
              "      <td>0</td>\n",
              "      <td>1</td>\n",
              "      <td>1</td>\n",
              "      <td>1</td>\n",
              "      <td>1</td>\n",
              "      <td>0</td>\n",
              "      <td>0</td>\n",
              "      <td>1</td>\n",
              "      <td>0</td>\n",
              "      <td>1</td>\n",
              "      <td>0</td>\n",
              "      <td>0</td>\n",
              "      <td>4</td>\n",
              "    </tr>\n",
              "    <tr>\n",
              "      <th>3</th>\n",
              "      <td>bear</td>\n",
              "      <td>1</td>\n",
              "      <td>0</td>\n",
              "      <td>0</td>\n",
              "      <td>1</td>\n",
              "      <td>0</td>\n",
              "      <td>0</td>\n",
              "      <td>1</td>\n",
              "      <td>1</td>\n",
              "      <td>1</td>\n",
              "      <td>1</td>\n",
              "      <td>0</td>\n",
              "      <td>0</td>\n",
              "      <td>4</td>\n",
              "      <td>0</td>\n",
              "      <td>0</td>\n",
              "      <td>1</td>\n",
              "      <td>1</td>\n",
              "    </tr>\n",
              "    <tr>\n",
              "      <th>4</th>\n",
              "      <td>boar</td>\n",
              "      <td>1</td>\n",
              "      <td>0</td>\n",
              "      <td>0</td>\n",
              "      <td>1</td>\n",
              "      <td>0</td>\n",
              "      <td>0</td>\n",
              "      <td>1</td>\n",
              "      <td>1</td>\n",
              "      <td>1</td>\n",
              "      <td>1</td>\n",
              "      <td>0</td>\n",
              "      <td>0</td>\n",
              "      <td>4</td>\n",
              "      <td>1</td>\n",
              "      <td>0</td>\n",
              "      <td>1</td>\n",
              "      <td>1</td>\n",
              "    </tr>\n",
              "  </tbody>\n",
              "</table>\n",
              "</div>"
            ],
            "text/plain": [
              "  animal name  hair  feathers  eggs  ...  tail  domestic  catsize  animal_type\n",
              "0    aardvark     1         0     0  ...     0         0        1            1\n",
              "1    antelope     1         0     0  ...     1         0        1            1\n",
              "2        bass     0         0     1  ...     1         0        0            4\n",
              "3        bear     1         0     0  ...     0         0        1            1\n",
              "4        boar     1         0     0  ...     1         0        1            1\n",
              "\n",
              "[5 rows x 18 columns]"
            ]
          },
          "metadata": {},
          "execution_count": 35
        }
      ]
    },
    {
      "cell_type": "code",
      "metadata": {
        "id": "tIvzq-BnZII5",
        "colab": {
          "base_uri": "https://localhost:8080/",
          "height": 414
        },
        "outputId": "81f52a25-50b4-4333-e35d-9a2bb80b397f"
      },
      "source": [
        "# Add domain knowladge to name the animal types\n",
        "replace_dict = {\n",
        "\t\t\t\t  1: 'mammal', \n",
        "\t\t\t\t  2: 'bird', \n",
        "\t\t\t\t  3: 'sname', \n",
        "\t\t\t\t  4: 'fish', \n",
        "\t\t\t\t  5: 'amphibian', \n",
        "\t\t\t\t  6: 'insect', \n",
        "\t\t\t\t  7: 'other invertebrates'}\n",
        "\n",
        "data['animal_type_name'] = data['animal_type'].replace(replace_dict)\n",
        "data"
      ],
      "execution_count": 36,
      "outputs": [
        {
          "output_type": "execute_result",
          "data": {
            "text/html": [
              "<div>\n",
              "<style scoped>\n",
              "    .dataframe tbody tr th:only-of-type {\n",
              "        vertical-align: middle;\n",
              "    }\n",
              "\n",
              "    .dataframe tbody tr th {\n",
              "        vertical-align: top;\n",
              "    }\n",
              "\n",
              "    .dataframe thead th {\n",
              "        text-align: right;\n",
              "    }\n",
              "</style>\n",
              "<table border=\"1\" class=\"dataframe\">\n",
              "  <thead>\n",
              "    <tr style=\"text-align: right;\">\n",
              "      <th></th>\n",
              "      <th>animal name</th>\n",
              "      <th>hair</th>\n",
              "      <th>feathers</th>\n",
              "      <th>eggs</th>\n",
              "      <th>milk</th>\n",
              "      <th>airborne</th>\n",
              "      <th>aquatic</th>\n",
              "      <th>predator</th>\n",
              "      <th>toothed</th>\n",
              "      <th>backbone</th>\n",
              "      <th>breathes</th>\n",
              "      <th>venomous</th>\n",
              "      <th>fins</th>\n",
              "      <th>legs</th>\n",
              "      <th>tail</th>\n",
              "      <th>domestic</th>\n",
              "      <th>catsize</th>\n",
              "      <th>animal_type</th>\n",
              "      <th>animal_type_name</th>\n",
              "    </tr>\n",
              "  </thead>\n",
              "  <tbody>\n",
              "    <tr>\n",
              "      <th>0</th>\n",
              "      <td>aardvark</td>\n",
              "      <td>1</td>\n",
              "      <td>0</td>\n",
              "      <td>0</td>\n",
              "      <td>1</td>\n",
              "      <td>0</td>\n",
              "      <td>0</td>\n",
              "      <td>1</td>\n",
              "      <td>1</td>\n",
              "      <td>1</td>\n",
              "      <td>1</td>\n",
              "      <td>0</td>\n",
              "      <td>0</td>\n",
              "      <td>4</td>\n",
              "      <td>0</td>\n",
              "      <td>0</td>\n",
              "      <td>1</td>\n",
              "      <td>1</td>\n",
              "      <td>mammal</td>\n",
              "    </tr>\n",
              "    <tr>\n",
              "      <th>1</th>\n",
              "      <td>antelope</td>\n",
              "      <td>1</td>\n",
              "      <td>0</td>\n",
              "      <td>0</td>\n",
              "      <td>1</td>\n",
              "      <td>0</td>\n",
              "      <td>0</td>\n",
              "      <td>0</td>\n",
              "      <td>1</td>\n",
              "      <td>1</td>\n",
              "      <td>1</td>\n",
              "      <td>0</td>\n",
              "      <td>0</td>\n",
              "      <td>4</td>\n",
              "      <td>1</td>\n",
              "      <td>0</td>\n",
              "      <td>1</td>\n",
              "      <td>1</td>\n",
              "      <td>mammal</td>\n",
              "    </tr>\n",
              "    <tr>\n",
              "      <th>2</th>\n",
              "      <td>bass</td>\n",
              "      <td>0</td>\n",
              "      <td>0</td>\n",
              "      <td>1</td>\n",
              "      <td>0</td>\n",
              "      <td>0</td>\n",
              "      <td>1</td>\n",
              "      <td>1</td>\n",
              "      <td>1</td>\n",
              "      <td>1</td>\n",
              "      <td>0</td>\n",
              "      <td>0</td>\n",
              "      <td>1</td>\n",
              "      <td>0</td>\n",
              "      <td>1</td>\n",
              "      <td>0</td>\n",
              "      <td>0</td>\n",
              "      <td>4</td>\n",
              "      <td>fish</td>\n",
              "    </tr>\n",
              "    <tr>\n",
              "      <th>3</th>\n",
              "      <td>bear</td>\n",
              "      <td>1</td>\n",
              "      <td>0</td>\n",
              "      <td>0</td>\n",
              "      <td>1</td>\n",
              "      <td>0</td>\n",
              "      <td>0</td>\n",
              "      <td>1</td>\n",
              "      <td>1</td>\n",
              "      <td>1</td>\n",
              "      <td>1</td>\n",
              "      <td>0</td>\n",
              "      <td>0</td>\n",
              "      <td>4</td>\n",
              "      <td>0</td>\n",
              "      <td>0</td>\n",
              "      <td>1</td>\n",
              "      <td>1</td>\n",
              "      <td>mammal</td>\n",
              "    </tr>\n",
              "    <tr>\n",
              "      <th>4</th>\n",
              "      <td>boar</td>\n",
              "      <td>1</td>\n",
              "      <td>0</td>\n",
              "      <td>0</td>\n",
              "      <td>1</td>\n",
              "      <td>0</td>\n",
              "      <td>0</td>\n",
              "      <td>1</td>\n",
              "      <td>1</td>\n",
              "      <td>1</td>\n",
              "      <td>1</td>\n",
              "      <td>0</td>\n",
              "      <td>0</td>\n",
              "      <td>4</td>\n",
              "      <td>1</td>\n",
              "      <td>0</td>\n",
              "      <td>1</td>\n",
              "      <td>1</td>\n",
              "      <td>mammal</td>\n",
              "    </tr>\n",
              "    <tr>\n",
              "      <th>...</th>\n",
              "      <td>...</td>\n",
              "      <td>...</td>\n",
              "      <td>...</td>\n",
              "      <td>...</td>\n",
              "      <td>...</td>\n",
              "      <td>...</td>\n",
              "      <td>...</td>\n",
              "      <td>...</td>\n",
              "      <td>...</td>\n",
              "      <td>...</td>\n",
              "      <td>...</td>\n",
              "      <td>...</td>\n",
              "      <td>...</td>\n",
              "      <td>...</td>\n",
              "      <td>...</td>\n",
              "      <td>...</td>\n",
              "      <td>...</td>\n",
              "      <td>...</td>\n",
              "      <td>...</td>\n",
              "    </tr>\n",
              "    <tr>\n",
              "      <th>96</th>\n",
              "      <td>wallaby</td>\n",
              "      <td>1</td>\n",
              "      <td>0</td>\n",
              "      <td>0</td>\n",
              "      <td>1</td>\n",
              "      <td>0</td>\n",
              "      <td>0</td>\n",
              "      <td>0</td>\n",
              "      <td>1</td>\n",
              "      <td>1</td>\n",
              "      <td>1</td>\n",
              "      <td>0</td>\n",
              "      <td>0</td>\n",
              "      <td>2</td>\n",
              "      <td>1</td>\n",
              "      <td>0</td>\n",
              "      <td>1</td>\n",
              "      <td>1</td>\n",
              "      <td>mammal</td>\n",
              "    </tr>\n",
              "    <tr>\n",
              "      <th>97</th>\n",
              "      <td>wasp</td>\n",
              "      <td>1</td>\n",
              "      <td>0</td>\n",
              "      <td>1</td>\n",
              "      <td>0</td>\n",
              "      <td>1</td>\n",
              "      <td>0</td>\n",
              "      <td>0</td>\n",
              "      <td>0</td>\n",
              "      <td>0</td>\n",
              "      <td>1</td>\n",
              "      <td>1</td>\n",
              "      <td>0</td>\n",
              "      <td>6</td>\n",
              "      <td>0</td>\n",
              "      <td>0</td>\n",
              "      <td>0</td>\n",
              "      <td>6</td>\n",
              "      <td>insect</td>\n",
              "    </tr>\n",
              "    <tr>\n",
              "      <th>98</th>\n",
              "      <td>wolf</td>\n",
              "      <td>1</td>\n",
              "      <td>0</td>\n",
              "      <td>0</td>\n",
              "      <td>1</td>\n",
              "      <td>0</td>\n",
              "      <td>0</td>\n",
              "      <td>1</td>\n",
              "      <td>1</td>\n",
              "      <td>1</td>\n",
              "      <td>1</td>\n",
              "      <td>0</td>\n",
              "      <td>0</td>\n",
              "      <td>4</td>\n",
              "      <td>1</td>\n",
              "      <td>0</td>\n",
              "      <td>1</td>\n",
              "      <td>1</td>\n",
              "      <td>mammal</td>\n",
              "    </tr>\n",
              "    <tr>\n",
              "      <th>99</th>\n",
              "      <td>worm</td>\n",
              "      <td>0</td>\n",
              "      <td>0</td>\n",
              "      <td>1</td>\n",
              "      <td>0</td>\n",
              "      <td>0</td>\n",
              "      <td>0</td>\n",
              "      <td>0</td>\n",
              "      <td>0</td>\n",
              "      <td>0</td>\n",
              "      <td>1</td>\n",
              "      <td>0</td>\n",
              "      <td>0</td>\n",
              "      <td>0</td>\n",
              "      <td>0</td>\n",
              "      <td>0</td>\n",
              "      <td>0</td>\n",
              "      <td>7</td>\n",
              "      <td>other invertebrates</td>\n",
              "    </tr>\n",
              "    <tr>\n",
              "      <th>100</th>\n",
              "      <td>wren</td>\n",
              "      <td>0</td>\n",
              "      <td>1</td>\n",
              "      <td>1</td>\n",
              "      <td>0</td>\n",
              "      <td>1</td>\n",
              "      <td>0</td>\n",
              "      <td>0</td>\n",
              "      <td>0</td>\n",
              "      <td>1</td>\n",
              "      <td>1</td>\n",
              "      <td>0</td>\n",
              "      <td>0</td>\n",
              "      <td>2</td>\n",
              "      <td>1</td>\n",
              "      <td>0</td>\n",
              "      <td>0</td>\n",
              "      <td>2</td>\n",
              "      <td>bird</td>\n",
              "    </tr>\n",
              "  </tbody>\n",
              "</table>\n",
              "<p>101 rows × 19 columns</p>\n",
              "</div>"
            ],
            "text/plain": [
              "    animal name  hair  feathers  ...  catsize  animal_type     animal_type_name\n",
              "0      aardvark     1         0  ...        1            1               mammal\n",
              "1      antelope     1         0  ...        1            1               mammal\n",
              "2          bass     0         0  ...        0            4                 fish\n",
              "3          bear     1         0  ...        1            1               mammal\n",
              "4          boar     1         0  ...        1            1               mammal\n",
              "..          ...   ...       ...  ...      ...          ...                  ...\n",
              "96      wallaby     1         0  ...        1            1               mammal\n",
              "97         wasp     1         0  ...        0            6               insect\n",
              "98         wolf     1         0  ...        1            1               mammal\n",
              "99         worm     0         0  ...        0            7  other invertebrates\n",
              "100        wren     0         1  ...        0            2                 bird\n",
              "\n",
              "[101 rows x 19 columns]"
            ]
          },
          "metadata": {},
          "execution_count": 36
        }
      ]
    },
    {
      "cell_type": "markdown",
      "metadata": {
        "id": "-x05UuDHDf6Q"
      },
      "source": [
        "## 3. Descriptive Statistics\n",
        " \n",
        "\n"
      ]
    },
    {
      "cell_type": "markdown",
      "metadata": {
        "id": "-fIq4Fe0Eyl0"
      },
      "source": [
        "* Task 2: Type your code to find how many rows and columns this dataset. Use print stament display the value. \n",
        "> ![image.png](data:image/png;base64,iVBORw0KGgoAAAANSUhEUgAAAMMAAAAeCAYAAACR36pbAAACdUlEQVR4nO2ZsbGjMBRFaWNDlbEdOFDgWv68Hog2VwPbhWYI3YVcgkPCuwFPIAls8w1eA/+eGWYYQAjpciRhVyCEAACqTz8AIVuBMhCiUAZCFMpAiEIZCFEoAyEKZVCu1yuqqlp9a5rm000jM6EMCmXYNlP5nM9n1HWNpmlwuVwW10EZlB8hQ3CwxsAYA+vCp5/mW7wjnzIbyqD8CBkiXijDoWXwAqOjXrnNCZ4yfJgn+W1OhuBs/3Bx3xiLtF+9JA2xDqEoa8SP7pdel5UXgSTn3sleZBj63cAYgci8/s+YkkFfxhhPnpeHxDy0Xt+/vALfFeiWYP01ybmsmtfy3ZwMyBodm+nh/dBQmyeTBBLgZNzw4GQIswgpOHs/0JXZgwzB2Www6bIYZHjc/8iOT84MXpDeHsHBJjlLrCu5b3B2KFM8z6ieBfluVgaZnGI9RMpxIH/ZvXQjhZc4agU4m44eAc6abOQb3/EOh18mTQ8mSQc87f/h0hdlkH7U68uPZChlzW94P9+9LZNiA1+VodsPcM7r/nSZtC7LmUE5ggyjh5ud785kAHyxfh0FGByc0/K63EpDGZU/ogyjZeZ8grPFS9yNtMM7+qT/Iw9kGI7H74T1ZFiS78ZkKKc4k31waXOTj6d759M17oOPv+8ukxbyLhl+/f5Cnr9d1K6yj+b3/3R++bOk5S2cj+L+GY6L75c06Q8p8nf4D8OIz/7TiEItyXdjMhybtm3RNM3q2+12S2rpXsjN/ay5AyjD4fCQ/zjbHYm2bVHXNU6nE2UgpGTdWZsyENJDGQhRKAMhCmUgRKEMhCiUgRCFMhCiUAZCFMpAiPIPaeFymlrO/7UAAAAASUVORK5CYII=)"
      ]
    },
    {
      "cell_type": "code",
      "metadata": {
        "id": "m_Ck0aXj_0XG",
        "colab": {
          "base_uri": "https://localhost:8080/"
        },
        "outputId": "7cc26efa-a19b-498c-a209-63eb4011cbb4"
      },
      "source": [
        "#############################################################\n",
        "# Task2: Type your code below to print number of rows and columns.\n",
        "\n",
        "rows = data.shape[0]+1\n",
        "columns = data.shape[1]\n",
        "print(F\"rows = {rows}, columns={columns}\")\n",
        "\n",
        "#############################################################\n",
        "\n"
      ],
      "execution_count": 37,
      "outputs": [
        {
          "output_type": "stream",
          "name": "stdout",
          "text": [
            "rows = 102, columns=19\n"
          ]
        }
      ]
    },
    {
      "cell_type": "markdown",
      "metadata": {
        "id": "1RfOsP9_GEp8"
      },
      "source": [
        "* Task 3: Find and display min, max, mean, median and standard deviation of the column `legs`. You may choose from different methods to do this task. below is the output from one method.\n",
        "> ![image.png](data:image/png;base64,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)"
      ]
    },
    {
      "cell_type": "code",
      "metadata": {
        "id": "EoYRx_HWAY5_",
        "colab": {
          "base_uri": "https://localhost:8080/"
        },
        "outputId": "9369393c-3674-4a69-a34b-7d2b08db417a"
      },
      "source": [
        "#############################################################\n",
        "# Task 3: Type your code below to find and display min, max, mean, median and standard deviation of the column 'legs'.\n",
        "data['legs'].describe()\n",
        "#np.median(data['legs'])\n",
        "#############################################################"
      ],
      "execution_count": 38,
      "outputs": [
        {
          "output_type": "execute_result",
          "data": {
            "text/plain": [
              "count    101.000000\n",
              "mean       2.841584\n",
              "std        2.033385\n",
              "min        0.000000\n",
              "25%        2.000000\n",
              "50%        4.000000\n",
              "75%        4.000000\n",
              "max        8.000000\n",
              "Name: legs, dtype: float64"
            ]
          },
          "metadata": {},
          "execution_count": 38
        }
      ]
    },
    {
      "cell_type": "markdown",
      "metadata": {
        "id": "N383f5PlHtHm"
      },
      "source": [
        "* Task 4 : Create a boxplot to visualize the deatils you found in Task 3.\n",
        "\n",
        "\n"
      ]
    },
    {
      "cell_type": "code",
      "metadata": {
        "id": "BuFthEWvGfoQ",
        "colab": {
          "base_uri": "https://localhost:8080/",
          "height": 282
        },
        "outputId": "be9c79a4-aa66-491e-e05c-68faa16a8cde"
      },
      "source": [
        "#############################################################\n",
        "# Task 4: Type your code to create a box plot using the column 'legs'.\n",
        "data['legs'].plot(kind='box')\n",
        "#############################################################"
      ],
      "execution_count": 39,
      "outputs": [
        {
          "output_type": "execute_result",
          "data": {
            "text/plain": [
              "<matplotlib.axes._subplots.AxesSubplot at 0x7f425d47c150>"
            ]
          },
          "metadata": {},
          "execution_count": 39
        },
        {
          "output_type": "display_data",
          "data": {
            "image/png": "[encoded data removed]",
            "text/plain": [
              "<Figure size 432x288 with 1 Axes>"
            ]
          },
          "metadata": {
            "needs_background": "light"
          }
        }
      ]
    },
    {
      "cell_type": "code",
      "metadata": {
        "id": "-8tS4ZLEJt9O"
      },
      "source": [
        "# Bones/Optional: Did you find any outliers? \n"
      ],
      "execution_count": 40,
      "outputs": []
    },
    {
      "cell_type": "markdown",
      "metadata": {
        "id": "pcVK-OCbKGv6"
      },
      "source": [
        "Yes. (value 8 for legs)"
      ]
    },
    {
      "cell_type": "markdown",
      "metadata": {
        "id": "TkBeZfMEKG1C"
      },
      "source": [
        "* Task 5: Display the uniqe values in the column `animal_type' \n",
        "* Task 6 : Find how many unique values present"
      ]
    },
    {
      "cell_type": "code",
      "metadata": {
        "id": "rLRyQ-D-KXFP",
        "colab": {
          "base_uri": "https://localhost:8080/"
        },
        "outputId": "66a4dce0-c9b1-4c07-add4-e1abb361f30d"
      },
      "source": [
        "#############################################################\n",
        "# Task 5: complete the code to get an array of uniqe values in the column `animal_type' and print them.\n",
        "unique_values = data['animal_type'].unique()\n",
        "print(unique_values)\n",
        "#############################################################"
      ],
      "execution_count": 41,
      "outputs": [
        {
          "output_type": "stream",
          "name": "stdout",
          "text": [
            "[1 4 2 7 6 5 3]\n"
          ]
        }
      ]
    },
    {
      "cell_type": "code",
      "metadata": {
        "id": "loW2-4QKLnPp",
        "colab": {
          "base_uri": "https://localhost:8080/"
        },
        "outputId": "a0ad49de-8abb-4451-b9de-4877f41aa4ea"
      },
      "source": [
        "#############################################################\n",
        "# Task 6: Type your code to find and display how many unique values in the column `animal_type'.\n",
        "len(unique_values)\n",
        "#############################################################"
      ],
      "execution_count": 42,
      "outputs": [
        {
          "output_type": "execute_result",
          "data": {
            "text/plain": [
              "7"
            ]
          },
          "metadata": {},
          "execution_count": 42
        }
      ]
    },
    {
      "cell_type": "code",
      "metadata": {
        "id": "XKliORVbKaUo",
        "colab": {
          "base_uri": "https://localhost:8080/"
        },
        "outputId": "263c7ad7-5fe4-46f2-de0e-791d4cc158e1"
      },
      "source": [
        "#############################################################\n",
        "# Task 7: Type your code to construct and display freqeuncy table for the column 'animal_type'.\n",
        "data['animal_type'].value_counts()\n",
        "#############################################################"
      ],
      "execution_count": 43,
      "outputs": [
        {
          "output_type": "execute_result",
          "data": {
            "text/plain": [
              "1    41\n",
              "2    20\n",
              "4    13\n",
              "7    10\n",
              "6     8\n",
              "3     5\n",
              "5     4\n",
              "Name: animal_type, dtype: int64"
            ]
          },
          "metadata": {},
          "execution_count": 43
        }
      ]
    },
    {
      "cell_type": "code",
      "metadata": {
        "id": "snt-kmPYLwRw",
        "colab": {
          "base_uri": "https://localhost:8080/",
          "height": 280
        },
        "outputId": "e4da8c33-b72b-4a70-8bf5-3c885ffb08c9"
      },
      "source": [
        "#############################################################\n",
        "# Task 8: Display the frequncy table as a bar plot\n",
        "data['animal_type'].value_counts().plot(kind='bar')\n",
        "\n",
        "#############################################################"
      ],
      "execution_count": 44,
      "outputs": [
        {
          "output_type": "execute_result",
          "data": {
            "text/plain": [
              "<matplotlib.axes._subplots.AxesSubplot at 0x7f4253845a50>"
            ]
          },
          "metadata": {},
          "execution_count": 44
        },
        {
          "output_type": "display_data",
          "data": {
            "image/png": "[encoded data removed]",
            "text/plain": [
              "<Figure size 432x288 with 1 Axes>"
            ]
          },
          "metadata": {
            "needs_background": "light"
          }
        }
      ]
    },
    {
      "cell_type": "code",
      "metadata": {
        "id": "jzzGKl2XMXBH",
        "colab": {
          "base_uri": "https://localhost:8080/",
          "height": 447
        },
        "outputId": "107dbd2b-572d-431f-be78-725aa1f7594f"
      },
      "source": [
        "#############################################################\n",
        "# Task 9: Select and display the records with `legs` greater than 4\n",
        "data_legs_greaterthan4 = data.query('legs > 4')\n",
        "data_legs_greaterthan4\n",
        "#############################################################"
      ],
      "execution_count": 45,
      "outputs": [
        {
          "output_type": "execute_result",
          "data": {
            "text/html": [
              "<div>\n",
              "<style scoped>\n",
              "    .dataframe tbody tr th:only-of-type {\n",
              "        vertical-align: middle;\n",
              "    }\n",
              "\n",
              "    .dataframe tbody tr th {\n",
              "        vertical-align: top;\n",
              "    }\n",
              "\n",
              "    .dataframe thead th {\n",
              "        text-align: right;\n",
              "    }\n",
              "</style>\n",
              "<table border=\"1\" class=\"dataframe\">\n",
              "  <thead>\n",
              "    <tr style=\"text-align: right;\">\n",
              "      <th></th>\n",
              "      <th>animal name</th>\n",
              "      <th>hair</th>\n",
              "      <th>feathers</th>\n",
              "      <th>eggs</th>\n",
              "      <th>milk</th>\n",
              "      <th>airborne</th>\n",
              "      <th>aquatic</th>\n",
              "      <th>predator</th>\n",
              "      <th>toothed</th>\n",
              "      <th>backbone</th>\n",
              "      <th>breathes</th>\n",
              "      <th>venomous</th>\n",
              "      <th>fins</th>\n",
              "      <th>legs</th>\n",
              "      <th>tail</th>\n",
              "      <th>domestic</th>\n",
              "      <th>catsize</th>\n",
              "      <th>animal_type</th>\n",
              "      <th>animal_type_name</th>\n",
              "    </tr>\n",
              "  </thead>\n",
              "  <tbody>\n",
              "    <tr>\n",
              "      <th>15</th>\n",
              "      <td>crayfish</td>\n",
              "      <td>0</td>\n",
              "      <td>0</td>\n",
              "      <td>1</td>\n",
              "      <td>0</td>\n",
              "      <td>0</td>\n",
              "      <td>1</td>\n",
              "      <td>1</td>\n",
              "      <td>0</td>\n",
              "      <td>0</td>\n",
              "      <td>0</td>\n",
              "      <td>0</td>\n",
              "      <td>0</td>\n",
              "      <td>6</td>\n",
              "      <td>0</td>\n",
              "      <td>0</td>\n",
              "      <td>0</td>\n",
              "      <td>7</td>\n",
              "      <td>other invertebrates</td>\n",
              "    </tr>\n",
              "    <tr>\n",
              "      <th>24</th>\n",
              "      <td>flea</td>\n",
              "      <td>0</td>\n",
              "      <td>0</td>\n",
              "      <td>1</td>\n",
              "      <td>0</td>\n",
              "      <td>0</td>\n",
              "      <td>0</td>\n",
              "      <td>0</td>\n",
              "      <td>0</td>\n",
              "      <td>0</td>\n",
              "      <td>1</td>\n",
              "      <td>0</td>\n",
              "      <td>0</td>\n",
              "      <td>6</td>\n",
              "      <td>0</td>\n",
              "      <td>0</td>\n",
              "      <td>0</td>\n",
              "      <td>6</td>\n",
              "      <td>insect</td>\n",
              "    </tr>\n",
              "    <tr>\n",
              "      <th>30</th>\n",
              "      <td>gnat</td>\n",
              "      <td>0</td>\n",
              "      <td>0</td>\n",
              "      <td>1</td>\n",
              "      <td>0</td>\n",
              "      <td>1</td>\n",
              "      <td>0</td>\n",
              "      <td>0</td>\n",
              "      <td>0</td>\n",
              "      <td>0</td>\n",
              "      <td>1</td>\n",
              "      <td>0</td>\n",
              "      <td>0</td>\n",
              "      <td>6</td>\n",
              "      <td>0</td>\n",
              "      <td>0</td>\n",
              "      <td>0</td>\n",
              "      <td>6</td>\n",
              "      <td>insect</td>\n",
              "    </tr>\n",
              "    <tr>\n",
              "      <th>39</th>\n",
              "      <td>honeybee</td>\n",
              "      <td>1</td>\n",
              "      <td>0</td>\n",
              "      <td>1</td>\n",
              "      <td>0</td>\n",
              "      <td>1</td>\n",
              "      <td>0</td>\n",
              "      <td>0</td>\n",
              "      <td>0</td>\n",
              "      <td>0</td>\n",
              "      <td>1</td>\n",
              "      <td>1</td>\n",
              "      <td>0</td>\n",
              "      <td>6</td>\n",
              "      <td>0</td>\n",
              "      <td>1</td>\n",
              "      <td>0</td>\n",
              "      <td>6</td>\n",
              "      <td>insect</td>\n",
              "    </tr>\n",
              "    <tr>\n",
              "      <th>40</th>\n",
              "      <td>housefly</td>\n",
              "      <td>1</td>\n",
              "      <td>0</td>\n",
              "      <td>1</td>\n",
              "      <td>0</td>\n",
              "      <td>1</td>\n",
              "      <td>0</td>\n",
              "      <td>0</td>\n",
              "      <td>0</td>\n",
              "      <td>0</td>\n",
              "      <td>1</td>\n",
              "      <td>0</td>\n",
              "      <td>0</td>\n",
              "      <td>6</td>\n",
              "      <td>0</td>\n",
              "      <td>0</td>\n",
              "      <td>0</td>\n",
              "      <td>6</td>\n",
              "      <td>insect</td>\n",
              "    </tr>\n",
              "    <tr>\n",
              "      <th>42</th>\n",
              "      <td>ladybird</td>\n",
              "      <td>0</td>\n",
              "      <td>0</td>\n",
              "      <td>1</td>\n",
              "      <td>0</td>\n",
              "      <td>1</td>\n",
              "      <td>0</td>\n",
              "      <td>1</td>\n",
              "      <td>0</td>\n",
              "      <td>0</td>\n",
              "      <td>1</td>\n",
              "      <td>0</td>\n",
              "      <td>0</td>\n",
              "      <td>6</td>\n",
              "      <td>0</td>\n",
              "      <td>0</td>\n",
              "      <td>0</td>\n",
              "      <td>6</td>\n",
              "      <td>insect</td>\n",
              "    </tr>\n",
              "    <tr>\n",
              "      <th>46</th>\n",
              "      <td>lobster</td>\n",
              "      <td>0</td>\n",
              "      <td>0</td>\n",
              "      <td>1</td>\n",
              "      <td>0</td>\n",
              "      <td>0</td>\n",
              "      <td>1</td>\n",
              "      <td>1</td>\n",
              "      <td>0</td>\n",
              "      <td>0</td>\n",
              "      <td>0</td>\n",
              "      <td>0</td>\n",
              "      <td>0</td>\n",
              "      <td>6</td>\n",
              "      <td>0</td>\n",
              "      <td>0</td>\n",
              "      <td>0</td>\n",
              "      <td>7</td>\n",
              "      <td>other invertebrates</td>\n",
              "    </tr>\n",
              "    <tr>\n",
              "      <th>51</th>\n",
              "      <td>moth</td>\n",
              "      <td>1</td>\n",
              "      <td>0</td>\n",
              "      <td>1</td>\n",
              "      <td>0</td>\n",
              "      <td>1</td>\n",
              "      <td>0</td>\n",
              "      <td>0</td>\n",
              "      <td>0</td>\n",
              "      <td>0</td>\n",
              "      <td>1</td>\n",
              "      <td>0</td>\n",
              "      <td>0</td>\n",
              "      <td>6</td>\n",
              "      <td>0</td>\n",
              "      <td>0</td>\n",
              "      <td>0</td>\n",
              "      <td>6</td>\n",
              "      <td>insect</td>\n",
              "    </tr>\n",
              "    <tr>\n",
              "      <th>53</th>\n",
              "      <td>octopus</td>\n",
              "      <td>0</td>\n",
              "      <td>0</td>\n",
              "      <td>1</td>\n",
              "      <td>0</td>\n",
              "      <td>0</td>\n",
              "      <td>1</td>\n",
              "      <td>1</td>\n",
              "      <td>0</td>\n",
              "      <td>0</td>\n",
              "      <td>0</td>\n",
              "      <td>0</td>\n",
              "      <td>0</td>\n",
              "      <td>8</td>\n",
              "      <td>0</td>\n",
              "      <td>0</td>\n",
              "      <td>1</td>\n",
              "      <td>7</td>\n",
              "      <td>other invertebrates</td>\n",
              "    </tr>\n",
              "    <tr>\n",
              "      <th>72</th>\n",
              "      <td>scorpion</td>\n",
              "      <td>0</td>\n",
              "      <td>0</td>\n",
              "      <td>0</td>\n",
              "      <td>0</td>\n",
              "      <td>0</td>\n",
              "      <td>0</td>\n",
              "      <td>1</td>\n",
              "      <td>0</td>\n",
              "      <td>0</td>\n",
              "      <td>1</td>\n",
              "      <td>1</td>\n",
              "      <td>0</td>\n",
              "      <td>8</td>\n",
              "      <td>1</td>\n",
              "      <td>0</td>\n",
              "      <td>0</td>\n",
              "      <td>7</td>\n",
              "      <td>other invertebrates</td>\n",
              "    </tr>\n",
              "    <tr>\n",
              "      <th>85</th>\n",
              "      <td>starfish</td>\n",
              "      <td>0</td>\n",
              "      <td>0</td>\n",
              "      <td>1</td>\n",
              "      <td>0</td>\n",
              "      <td>0</td>\n",
              "      <td>1</td>\n",
              "      <td>1</td>\n",
              "      <td>0</td>\n",
              "      <td>0</td>\n",
              "      <td>0</td>\n",
              "      <td>0</td>\n",
              "      <td>0</td>\n",
              "      <td>5</td>\n",
              "      <td>0</td>\n",
              "      <td>0</td>\n",
              "      <td>0</td>\n",
              "      <td>7</td>\n",
              "      <td>other invertebrates</td>\n",
              "    </tr>\n",
              "    <tr>\n",
              "      <th>88</th>\n",
              "      <td>termite</td>\n",
              "      <td>0</td>\n",
              "      <td>0</td>\n",
              "      <td>1</td>\n",
              "      <td>0</td>\n",
              "      <td>0</td>\n",
              "      <td>0</td>\n",
              "      <td>0</td>\n",
              "      <td>0</td>\n",
              "      <td>0</td>\n",
              "      <td>1</td>\n",
              "      <td>0</td>\n",
              "      <td>0</td>\n",
              "      <td>6</td>\n",
              "      <td>0</td>\n",
              "      <td>0</td>\n",
              "      <td>0</td>\n",
              "      <td>6</td>\n",
              "      <td>insect</td>\n",
              "    </tr>\n",
              "    <tr>\n",
              "      <th>97</th>\n",
              "      <td>wasp</td>\n",
              "      <td>1</td>\n",
              "      <td>0</td>\n",
              "      <td>1</td>\n",
              "      <td>0</td>\n",
              "      <td>1</td>\n",
              "      <td>0</td>\n",
              "      <td>0</td>\n",
              "      <td>0</td>\n",
              "      <td>0</td>\n",
              "      <td>1</td>\n",
              "      <td>1</td>\n",
              "      <td>0</td>\n",
              "      <td>6</td>\n",
              "      <td>0</td>\n",
              "      <td>0</td>\n",
              "      <td>0</td>\n",
              "      <td>6</td>\n",
              "      <td>insect</td>\n",
              "    </tr>\n",
              "  </tbody>\n",
              "</table>\n",
              "</div>"
            ],
            "text/plain": [
              "   animal name  hair  feathers  ...  catsize  animal_type     animal_type_name\n",
              "15    crayfish     0         0  ...        0            7  other invertebrates\n",
              "24        flea     0         0  ...        0            6               insect\n",
              "30        gnat     0         0  ...        0            6               insect\n",
              "39    honeybee     1         0  ...        0            6               insect\n",
              "40    housefly     1         0  ...        0            6               insect\n",
              "42    ladybird     0         0  ...        0            6               insect\n",
              "46     lobster     0         0  ...        0            7  other invertebrates\n",
              "51        moth     1         0  ...        0            6               insect\n",
              "53     octopus     0         0  ...        1            7  other invertebrates\n",
              "72    scorpion     0         0  ...        0            7  other invertebrates\n",
              "85    starfish     0         0  ...        0            7  other invertebrates\n",
              "88     termite     0         0  ...        0            6               insect\n",
              "97        wasp     1         0  ...        0            6               insect\n",
              "\n",
              "[13 rows x 19 columns]"
            ]
          },
          "metadata": {},
          "execution_count": 45
        }
      ]
    },
    {
      "cell_type": "code",
      "metadata": {
        "id": "6spfK_5TPTUz",
        "colab": {
          "base_uri": "https://localhost:8080/",
          "height": 590
        },
        "outputId": "17b413b1-d14f-424d-eb53-4934708a96ad"
      },
      "source": [
        "#############################################################\n",
        "# Task 10: Complete the code below to compute corelation matrix\n",
        "correlation_matrix = data.corr()\n",
        "\n",
        "#############################################################\n",
        "\n",
        "correlation_matrix"
      ],
      "execution_count": 46,
      "outputs": [
        {
          "output_type": "execute_result",
          "data": {
            "text/html": [
              "<div>\n",
              "<style scoped>\n",
              "    .dataframe tbody tr th:only-of-type {\n",
              "        vertical-align: middle;\n",
              "    }\n",
              "\n",
              "    .dataframe tbody tr th {\n",
              "        vertical-align: top;\n",
              "    }\n",
              "\n",
              "    .dataframe thead th {\n",
              "        text-align: right;\n",
              "    }\n",
              "</style>\n",
              "<table border=\"1\" class=\"dataframe\">\n",
              "  <thead>\n",
              "    <tr style=\"text-align: right;\">\n",
              "      <th></th>\n",
              "      <th>hair</th>\n",
              "      <th>feathers</th>\n",
              "      <th>eggs</th>\n",
              "      <th>milk</th>\n",
              "      <th>airborne</th>\n",
              "      <th>aquatic</th>\n",
              "      <th>predator</th>\n",
              "      <th>toothed</th>\n",
              "      <th>backbone</th>\n",
              "      <th>breathes</th>\n",
              "      <th>venomous</th>\n",
              "      <th>fins</th>\n",
              "      <th>legs</th>\n",
              "      <th>tail</th>\n",
              "      <th>domestic</th>\n",
              "      <th>catsize</th>\n",
              "      <th>animal_type</th>\n",
              "    </tr>\n",
              "  </thead>\n",
              "  <tbody>\n",
              "    <tr>\n",
              "      <th>hair</th>\n",
              "      <td>1.000000</td>\n",
              "      <td>-0.427851</td>\n",
              "      <td>-0.817382</td>\n",
              "      <td>0.878503</td>\n",
              "      <td>-0.198431</td>\n",
              "      <td>-0.473554</td>\n",
              "      <td>-0.154769</td>\n",
              "      <td>0.492531</td>\n",
              "      <td>0.191681</td>\n",
              "      <td>0.441149</td>\n",
              "      <td>-0.104245</td>\n",
              "      <td>-0.280313</td>\n",
              "      <td>0.394009</td>\n",
              "      <td>0.048973</td>\n",
              "      <td>0.207208</td>\n",
              "      <td>0.455020</td>\n",
              "      <td>-0.562384</td>\n",
              "    </tr>\n",
              "    <tr>\n",
              "      <th>feathers</th>\n",
              "      <td>-0.427851</td>\n",
              "      <td>1.000000</td>\n",
              "      <td>0.419248</td>\n",
              "      <td>-0.410761</td>\n",
              "      <td>0.656553</td>\n",
              "      <td>-0.058552</td>\n",
              "      <td>-0.104430</td>\n",
              "      <td>-0.613631</td>\n",
              "      <td>0.231403</td>\n",
              "      <td>0.254588</td>\n",
              "      <td>-0.145739</td>\n",
              "      <td>-0.223541</td>\n",
              "      <td>-0.206686</td>\n",
              "      <td>0.292569</td>\n",
              "      <td>0.031586</td>\n",
              "      <td>-0.135934</td>\n",
              "      <td>-0.197520</td>\n",
              "    </tr>\n",
              "    <tr>\n",
              "      <th>eggs</th>\n",
              "      <td>-0.817382</td>\n",
              "      <td>0.419248</td>\n",
              "      <td>1.000000</td>\n",
              "      <td>-0.938848</td>\n",
              "      <td>0.376646</td>\n",
              "      <td>0.376244</td>\n",
              "      <td>0.011605</td>\n",
              "      <td>-0.642150</td>\n",
              "      <td>-0.340420</td>\n",
              "      <td>-0.382777</td>\n",
              "      <td>0.098689</td>\n",
              "      <td>0.164796</td>\n",
              "      <td>-0.224918</td>\n",
              "      <td>-0.221090</td>\n",
              "      <td>-0.155610</td>\n",
              "      <td>-0.514650</td>\n",
              "      <td>0.661825</td>\n",
              "    </tr>\n",
              "    <tr>\n",
              "      <th>milk</th>\n",
              "      <td>0.878503</td>\n",
              "      <td>-0.410761</td>\n",
              "      <td>-0.938848</td>\n",
              "      <td>1.000000</td>\n",
              "      <td>-0.366765</td>\n",
              "      <td>-0.362613</td>\n",
              "      <td>-0.029721</td>\n",
              "      <td>0.628168</td>\n",
              "      <td>0.384958</td>\n",
              "      <td>0.423527</td>\n",
              "      <td>-0.242449</td>\n",
              "      <td>-0.156328</td>\n",
              "      <td>0.214196</td>\n",
              "      <td>0.210026</td>\n",
              "      <td>0.163928</td>\n",
              "      <td>0.574906</td>\n",
              "      <td>-0.723683</td>\n",
              "    </tr>\n",
              "    <tr>\n",
              "      <th>airborne</th>\n",
              "      <td>-0.198431</td>\n",
              "      <td>0.656553</td>\n",
              "      <td>0.376646</td>\n",
              "      <td>-0.366765</td>\n",
              "      <td>1.000000</td>\n",
              "      <td>-0.172638</td>\n",
              "      <td>-0.295181</td>\n",
              "      <td>-0.594311</td>\n",
              "      <td>-0.104718</td>\n",
              "      <td>0.286039</td>\n",
              "      <td>0.008528</td>\n",
              "      <td>-0.251157</td>\n",
              "      <td>0.043712</td>\n",
              "      <td>0.009482</td>\n",
              "      <td>0.063274</td>\n",
              "      <td>-0.349768</td>\n",
              "      <td>0.022677</td>\n",
              "    </tr>\n",
              "    <tr>\n",
              "      <th>aquatic</th>\n",
              "      <td>-0.473554</td>\n",
              "      <td>-0.058552</td>\n",
              "      <td>0.376244</td>\n",
              "      <td>-0.362613</td>\n",
              "      <td>-0.172638</td>\n",
              "      <td>1.000000</td>\n",
              "      <td>0.375978</td>\n",
              "      <td>0.053150</td>\n",
              "      <td>0.022463</td>\n",
              "      <td>-0.637506</td>\n",
              "      <td>0.087915</td>\n",
              "      <td>0.604492</td>\n",
              "      <td>-0.360638</td>\n",
              "      <td>-0.034642</td>\n",
              "      <td>-0.224308</td>\n",
              "      <td>-0.111866</td>\n",
              "      <td>0.326639</td>\n",
              "    </tr>\n",
              "    <tr>\n",
              "      <th>predator</th>\n",
              "      <td>-0.154769</td>\n",
              "      <td>-0.104430</td>\n",
              "      <td>0.011605</td>\n",
              "      <td>-0.029721</td>\n",
              "      <td>-0.295181</td>\n",
              "      <td>0.375978</td>\n",
              "      <td>1.000000</td>\n",
              "      <td>0.129452</td>\n",
              "      <td>0.051022</td>\n",
              "      <td>-0.262931</td>\n",
              "      <td>0.115391</td>\n",
              "      <td>0.190302</td>\n",
              "      <td>-0.099723</td>\n",
              "      <td>0.018947</td>\n",
              "      <td>-0.309794</td>\n",
              "      <td>0.144790</td>\n",
              "      <td>0.061179</td>\n",
              "    </tr>\n",
              "    <tr>\n",
              "      <th>toothed</th>\n",
              "      <td>0.492531</td>\n",
              "      <td>-0.613631</td>\n",
              "      <td>-0.642150</td>\n",
              "      <td>0.628168</td>\n",
              "      <td>-0.594311</td>\n",
              "      <td>0.053150</td>\n",
              "      <td>0.129452</td>\n",
              "      <td>1.000000</td>\n",
              "      <td>0.575085</td>\n",
              "      <td>-0.065690</td>\n",
              "      <td>-0.062344</td>\n",
              "      <td>0.364292</td>\n",
              "      <td>-0.193476</td>\n",
              "      <td>0.310368</td>\n",
              "      <td>0.069430</td>\n",
              "      <td>0.344010</td>\n",
              "      <td>-0.471527</td>\n",
              "    </tr>\n",
              "    <tr>\n",
              "      <th>backbone</th>\n",
              "      <td>0.191681</td>\n",
              "      <td>0.231403</td>\n",
              "      <td>-0.340420</td>\n",
              "      <td>0.384958</td>\n",
              "      <td>-0.104718</td>\n",
              "      <td>0.022463</td>\n",
              "      <td>0.051022</td>\n",
              "      <td>0.575085</td>\n",
              "      <td>1.000000</td>\n",
              "      <td>0.207666</td>\n",
              "      <td>-0.246611</td>\n",
              "      <td>0.209499</td>\n",
              "      <td>-0.432856</td>\n",
              "      <td>0.731762</td>\n",
              "      <td>0.101733</td>\n",
              "      <td>0.356976</td>\n",
              "      <td>-0.828845</td>\n",
              "    </tr>\n",
              "    <tr>\n",
              "      <th>breathes</th>\n",
              "      <td>0.441149</td>\n",
              "      <td>0.254588</td>\n",
              "      <td>-0.382777</td>\n",
              "      <td>0.423527</td>\n",
              "      <td>0.286039</td>\n",
              "      <td>-0.637506</td>\n",
              "      <td>-0.262931</td>\n",
              "      <td>-0.065690</td>\n",
              "      <td>0.207666</td>\n",
              "      <td>1.000000</td>\n",
              "      <td>-0.120752</td>\n",
              "      <td>-0.617219</td>\n",
              "      <td>0.369868</td>\n",
              "      <td>0.088952</td>\n",
              "      <td>0.124068</td>\n",
              "      <td>0.204125</td>\n",
              "      <td>-0.519308</td>\n",
              "    </tr>\n",
              "    <tr>\n",
              "      <th>venomous</th>\n",
              "      <td>-0.104245</td>\n",
              "      <td>-0.145739</td>\n",
              "      <td>0.098689</td>\n",
              "      <td>-0.242449</td>\n",
              "      <td>0.008528</td>\n",
              "      <td>0.087915</td>\n",
              "      <td>0.115391</td>\n",
              "      <td>-0.062344</td>\n",
              "      <td>-0.246611</td>\n",
              "      <td>-0.120752</td>\n",
              "      <td>1.000000</td>\n",
              "      <td>-0.033956</td>\n",
              "      <td>0.022964</td>\n",
              "      <td>-0.162724</td>\n",
              "      <td>-0.003252</td>\n",
              "      <td>-0.183748</td>\n",
              "      <td>0.321476</td>\n",
              "    </tr>\n",
              "    <tr>\n",
              "      <th>fins</th>\n",
              "      <td>-0.280313</td>\n",
              "      <td>-0.223541</td>\n",
              "      <td>0.164796</td>\n",
              "      <td>-0.156328</td>\n",
              "      <td>-0.251157</td>\n",
              "      <td>0.604492</td>\n",
              "      <td>0.190302</td>\n",
              "      <td>0.364292</td>\n",
              "      <td>0.209499</td>\n",
              "      <td>-0.617219</td>\n",
              "      <td>-0.033956</td>\n",
              "      <td>1.000000</td>\n",
              "      <td>-0.605652</td>\n",
              "      <td>0.204349</td>\n",
              "      <td>-0.093887</td>\n",
              "      <td>0.031705</td>\n",
              "      <td>0.099430</td>\n",
              "    </tr>\n",
              "    <tr>\n",
              "      <th>legs</th>\n",
              "      <td>0.394009</td>\n",
              "      <td>-0.206686</td>\n",
              "      <td>-0.224918</td>\n",
              "      <td>0.214196</td>\n",
              "      <td>0.043712</td>\n",
              "      <td>-0.360638</td>\n",
              "      <td>-0.099723</td>\n",
              "      <td>-0.193476</td>\n",
              "      <td>-0.432856</td>\n",
              "      <td>0.369868</td>\n",
              "      <td>0.022964</td>\n",
              "      <td>-0.605652</td>\n",
              "      <td>1.000000</td>\n",
              "      <td>-0.348295</td>\n",
              "      <td>0.073931</td>\n",
              "      <td>0.068791</td>\n",
              "      <td>0.131693</td>\n",
              "    </tr>\n",
              "    <tr>\n",
              "      <th>tail</th>\n",
              "      <td>0.048973</td>\n",
              "      <td>0.292569</td>\n",
              "      <td>-0.221090</td>\n",
              "      <td>0.210026</td>\n",
              "      <td>0.009482</td>\n",
              "      <td>-0.034642</td>\n",
              "      <td>0.018947</td>\n",
              "      <td>0.310368</td>\n",
              "      <td>0.731762</td>\n",
              "      <td>0.088952</td>\n",
              "      <td>-0.162724</td>\n",
              "      <td>0.204349</td>\n",
              "      <td>-0.348295</td>\n",
              "      <td>1.000000</td>\n",
              "      <td>0.023434</td>\n",
              "      <td>0.243277</td>\n",
              "      <td>-0.631830</td>\n",
              "    </tr>\n",
              "    <tr>\n",
              "      <th>domestic</th>\n",
              "      <td>0.207208</td>\n",
              "      <td>0.031586</td>\n",
              "      <td>-0.155610</td>\n",
              "      <td>0.163928</td>\n",
              "      <td>0.063274</td>\n",
              "      <td>-0.224308</td>\n",
              "      <td>-0.309794</td>\n",
              "      <td>0.069430</td>\n",
              "      <td>0.101733</td>\n",
              "      <td>0.124068</td>\n",
              "      <td>-0.003252</td>\n",
              "      <td>-0.093887</td>\n",
              "      <td>0.073931</td>\n",
              "      <td>0.023434</td>\n",
              "      <td>1.000000</td>\n",
              "      <td>0.020073</td>\n",
              "      <td>-0.181043</td>\n",
              "    </tr>\n",
              "    <tr>\n",
              "      <th>catsize</th>\n",
              "      <td>0.455020</td>\n",
              "      <td>-0.135934</td>\n",
              "      <td>-0.514650</td>\n",
              "      <td>0.574906</td>\n",
              "      <td>-0.349768</td>\n",
              "      <td>-0.111866</td>\n",
              "      <td>0.144790</td>\n",
              "      <td>0.344010</td>\n",
              "      <td>0.356976</td>\n",
              "      <td>0.204125</td>\n",
              "      <td>-0.183748</td>\n",
              "      <td>0.031705</td>\n",
              "      <td>0.068791</td>\n",
              "      <td>0.243277</td>\n",
              "      <td>0.020073</td>\n",
              "      <td>1.000000</td>\n",
              "      <td>-0.521030</td>\n",
              "    </tr>\n",
              "    <tr>\n",
              "      <th>animal_type</th>\n",
              "      <td>-0.562384</td>\n",
              "      <td>-0.197520</td>\n",
              "      <td>0.661825</td>\n",
              "      <td>-0.723683</td>\n",
              "      <td>0.022677</td>\n",
              "      <td>0.326639</td>\n",
              "      <td>0.061179</td>\n",
              "      <td>-0.471527</td>\n",
              "      <td>-0.828845</td>\n",
              "      <td>-0.519308</td>\n",
              "      <td>0.321476</td>\n",
              "      <td>0.099430</td>\n",
              "      <td>0.131693</td>\n",
              "      <td>-0.631830</td>\n",
              "      <td>-0.181043</td>\n",
              "      <td>-0.521030</td>\n",
              "      <td>1.000000</td>\n",
              "    </tr>\n",
              "  </tbody>\n",
              "</table>\n",
              "</div>"
            ],
            "text/plain": [
              "                 hair  feathers      eggs  ...  domestic   catsize  animal_type\n",
              "hair         1.000000 -0.427851 -0.817382  ...  0.207208  0.455020    -0.562384\n",
              "feathers    -0.427851  1.000000  0.419248  ...  0.031586 -0.135934    -0.197520\n",
              "eggs        -0.817382  0.419248  1.000000  ... -0.155610 -0.514650     0.661825\n",
              "milk         0.878503 -0.410761 -0.938848  ...  0.163928  0.574906    -0.723683\n",
              "airborne    -0.198431  0.656553  0.376646  ...  0.063274 -0.349768     0.022677\n",
              "aquatic     -0.473554 -0.058552  0.376244  ... -0.224308 -0.111866     0.326639\n",
              "predator    -0.154769 -0.104430  0.011605  ... -0.309794  0.144790     0.061179\n",
              "toothed      0.492531 -0.613631 -0.642150  ...  0.069430  0.344010    -0.471527\n",
              "backbone     0.191681  0.231403 -0.340420  ...  0.101733  0.356976    -0.828845\n",
              "breathes     0.441149  0.254588 -0.382777  ...  0.124068  0.204125    -0.519308\n",
              "venomous    -0.104245 -0.145739  0.098689  ... -0.003252 -0.183748     0.321476\n",
              "fins        -0.280313 -0.223541  0.164796  ... -0.093887  0.031705     0.099430\n",
              "legs         0.394009 -0.206686 -0.224918  ...  0.073931  0.068791     0.131693\n",
              "tail         0.048973  0.292569 -0.221090  ...  0.023434  0.243277    -0.631830\n",
              "domestic     0.207208  0.031586 -0.155610  ...  1.000000  0.020073    -0.181043\n",
              "catsize      0.455020 -0.135934 -0.514650  ...  0.020073  1.000000    -0.521030\n",
              "animal_type -0.562384 -0.197520  0.661825  ... -0.181043 -0.521030     1.000000\n",
              "\n",
              "[17 rows x 17 columns]"
            ]
          },
          "metadata": {},
          "execution_count": 46
        }
      ]
    },
    {
      "cell_type": "code",
      "metadata": {
        "id": "b6CucxBIdgk8",
        "colab": {
          "base_uri": "https://localhost:8080/",
          "height": 337
        },
        "outputId": "4e9e8875-92ff-4fd7-d19f-64e86505074b"
      },
      "source": [
        "#############################################################\n",
        "# Bonus/Optional: Type your code to display corelation matrix as a heat map (hint: you may use heatmap function from the seaborn library)\n",
        "sns.heatmap(correlation_matrix)\n",
        "#############################################################"
      ],
      "execution_count": 47,
      "outputs": [
        {
          "output_type": "execute_result",
          "data": {
            "text/plain": [
              "<matplotlib.axes._subplots.AxesSubplot at 0x7f425e865750>"
            ]
          },
          "metadata": {},
          "execution_count": 47
        },
        {
          "output_type": "display_data",
          "data": {
            "image/png": "[encoded data removed]",
            "text/plain": [
              "<Figure size 432x288 with 2 Axes>"
            ]
          },
          "metadata": {
            "needs_background": "light"
          }
        }
      ]
    },
    {
      "cell_type": "code",
      "metadata": {
        "id": "GikqCJzyRJOh",
        "colab": {
          "base_uri": "https://localhost:8080/"
        },
        "outputId": "e668ba17-5993-4132-e488-5d12133273a8"
      },
      "source": [
        "data.columns\n",
        "data.dtypes"
      ],
      "execution_count": 48,
      "outputs": [
        {
          "output_type": "execute_result",
          "data": {
            "text/plain": [
              "animal name         object\n",
              "hair                 int64\n",
              "feathers             int64\n",
              "eggs                 int64\n",
              "milk                 int64\n",
              "airborne             int64\n",
              "aquatic              int64\n",
              "predator             int64\n",
              "toothed              int64\n",
              "backbone             int64\n",
              "breathes             int64\n",
              "venomous             int64\n",
              "fins                 int64\n",
              "legs                 int64\n",
              "tail                 int64\n",
              "domestic             int64\n",
              "catsize              int64\n",
              "animal_type          int64\n",
              "animal_type_name    object\n",
              "dtype: object"
            ]
          },
          "metadata": {},
          "execution_count": 48
        }
      ]
    },
    {
      "cell_type": "markdown",
      "metadata": {
        "id": "Zju6GddqOWuq"
      },
      "source": [
        "# 4. Building a Machine Learning model\n",
        "* Task 10:  Identify indepenet (X) and dependent (y) variables."
      ]
    },
    {
      "cell_type": "code",
      "metadata": {
        "id": "bGiKsFXzM7rY",
        "colab": {
          "base_uri": "https://localhost:8080/"
        },
        "outputId": "c65d9525-d032-4412-df8d-bb62b0db7182"
      },
      "source": [
        "#############################################################\n",
        "# Task 10: Identify indepenet (X) and dependent (y) variables and complete the code below. You may need to type of copy column names from the dataframe.\n",
        "X_variables = {'hair', 'feathers', 'eggs', 'milk', 'airborne', 'aquatic', 'backbone', 'toothed', 'fins', 'legs'}\n",
        "y_variable = {'animal_type'}\n",
        "#############################################################\n",
        "\n",
        "print(F\"X_variables = {X_variables}\")\n",
        "print(F\"y_variable = {y_variable}\")"
      ],
      "execution_count": 49,
      "outputs": [
        {
          "output_type": "stream",
          "name": "stdout",
          "text": [
            "X_variables = {'toothed', 'backbone', 'airborne', 'hair', 'feathers', 'aquatic', 'eggs', 'legs', 'milk', 'fins'}\n",
            "y_variable = {'animal_type'}\n"
          ]
        }
      ]
    },
    {
      "cell_type": "code",
      "metadata": {
        "id": "E1-dVJZgPA1i"
      },
      "source": [
        "#############################################################\n",
        "# Bonus/Optional: Type your code to drop two variables suing corelation coefficient\n",
        "\n",
        "#############################################################"
      ],
      "execution_count": 50,
      "outputs": []
    },
    {
      "cell_type": "code",
      "metadata": {
        "id": "D3d5SUBPRqrG"
      },
      "source": [
        "# Due to limted observations avaiable, let's skip train test split for this exercise. \n",
        "\n",
        "X_train = data[X_variables]\n",
        "y_train = data[y_variable]\n",
        "\n"
      ],
      "execution_count": 51,
      "outputs": []
    },
    {
      "cell_type": "code",
      "metadata": {
        "id": "VxZYPsMJd5d1",
        "colab": {
          "base_uri": "https://localhost:8080/"
        },
        "outputId": "1f3ce9ae-f5bd-45e3-bdc2-d866aa33888d"
      },
      "source": [
        "# Train model\n",
        "model = DecisionTreeClassifier(random_state=0, max_depth=5, min_samples_split=5)\n",
        "model.fit(X_train, y_train)"
      ],
      "execution_count": 52,
      "outputs": [
        {
          "output_type": "execute_result",
          "data": {
            "text/plain": [
              "DecisionTreeClassifier(ccp_alpha=0.0, class_weight=None, criterion='gini',\n",
              "                       max_depth=5, max_features=None, max_leaf_nodes=None,\n",
              "                       min_impurity_decrease=0.0, min_impurity_split=None,\n",
              "                       min_samples_leaf=1, min_samples_split=5,\n",
              "                       min_weight_fraction_leaf=0.0, presort='deprecated',\n",
              "                       random_state=0, splitter='best')"
            ]
          },
          "metadata": {},
          "execution_count": 52
        }
      ]
    },
    {
      "cell_type": "code",
      "metadata": {
        "id": "B24PH6jJd-3B"
      },
      "source": [
        "# get clas names\n",
        "\n",
        "class_names = [str(c) for c in model.classes_]"
      ],
      "execution_count": 53,
      "outputs": []
    },
    {
      "cell_type": "code",
      "metadata": {
        "id": "QsroArz0d85t",
        "colab": {
          "base_uri": "https://localhost:8080/",
          "height": 1000
        },
        "outputId": "785336db-6ec3-4b38-854f-4a5d7831747a"
      },
      "source": [
        "pfig = plt.figure(figsize=(20,20))\n",
        "tree.plot_tree(model, feature_names=X_variables, class_names=class_names, filled=True)\n",
        "plt.show()"
      ],
      "execution_count": 54,
      "outputs": [
        {
          "output_type": "error",
          "ename": "TypeError",
          "evalue": "ignored",
          "traceback": [
            "\u001b[0;31m---------------------------------------------------------------------------\u001b[0m",
            "\u001b[0;31mTypeError\u001b[0m                                 Traceback (most recent call last)",
            "\u001b[0;32m<ipython-input-54-d58a3f35d41e>\u001b[0m in \u001b[0;36m<module>\u001b[0;34m()\u001b[0m\n\u001b[1;32m      1\u001b[0m \u001b[0mpfig\u001b[0m \u001b[0;34m=\u001b[0m \u001b[0mplt\u001b[0m\u001b[0;34m.\u001b[0m\u001b[0mfigure\u001b[0m\u001b[0;34m(\u001b[0m\u001b[0mfigsize\u001b[0m\u001b[0;34m=\u001b[0m\u001b[0;34m(\u001b[0m\u001b[0;36m20\u001b[0m\u001b[0;34m,\u001b[0m\u001b[0;36m20\u001b[0m\u001b[0;34m)\u001b[0m\u001b[0;34m)\u001b[0m\u001b[0;34m\u001b[0m\u001b[0;34m\u001b[0m\u001b[0m\n\u001b[0;32m----> 2\u001b[0;31m \u001b[0mtree\u001b[0m\u001b[0;34m.\u001b[0m\u001b[0mplot_tree\u001b[0m\u001b[0;34m(\u001b[0m\u001b[0mmodel\u001b[0m\u001b[0;34m,\u001b[0m \u001b[0mfeature_names\u001b[0m\u001b[0;34m=\u001b[0m\u001b[0mX_variables\u001b[0m\u001b[0;34m,\u001b[0m \u001b[0mclass_names\u001b[0m\u001b[0;34m=\u001b[0m\u001b[0mclass_names\u001b[0m\u001b[0;34m,\u001b[0m \u001b[0mfilled\u001b[0m\u001b[0;34m=\u001b[0m\u001b[0;32mTrue\u001b[0m\u001b[0;34m)\u001b[0m\u001b[0;34m\u001b[0m\u001b[0;34m\u001b[0m\u001b[0m\n\u001b[0m\u001b[1;32m      3\u001b[0m \u001b[0mplt\u001b[0m\u001b[0;34m.\u001b[0m\u001b[0mshow\u001b[0m\u001b[0;34m(\u001b[0m\u001b[0;34m)\u001b[0m\u001b[0;34m\u001b[0m\u001b[0;34m\u001b[0m\u001b[0m\n",
            "\u001b[0;32m/usr/local/lib/python3.7/dist-packages/sklearn/tree/_export.py\u001b[0m in \u001b[0;36mplot_tree\u001b[0;34m(decision_tree, max_depth, feature_names, class_names, label, filled, impurity, node_ids, proportion, rotate, rounded, precision, ax, fontsize)\u001b[0m\n\u001b[1;32m    174\u001b[0m         \u001b[0mproportion\u001b[0m\u001b[0;34m=\u001b[0m\u001b[0mproportion\u001b[0m\u001b[0;34m,\u001b[0m \u001b[0mrotate\u001b[0m\u001b[0;34m=\u001b[0m\u001b[0mrotate\u001b[0m\u001b[0;34m,\u001b[0m \u001b[0mrounded\u001b[0m\u001b[0;34m=\u001b[0m\u001b[0mrounded\u001b[0m\u001b[0;34m,\u001b[0m\u001b[0;34m\u001b[0m\u001b[0;34m\u001b[0m\u001b[0m\n\u001b[1;32m    175\u001b[0m         precision=precision, fontsize=fontsize)\n\u001b[0;32m--> 176\u001b[0;31m     \u001b[0;32mreturn\u001b[0m \u001b[0mexporter\u001b[0m\u001b[0;34m.\u001b[0m\u001b[0mexport\u001b[0m\u001b[0;34m(\u001b[0m\u001b[0mdecision_tree\u001b[0m\u001b[0;34m,\u001b[0m \u001b[0max\u001b[0m\u001b[0;34m=\u001b[0m\u001b[0max\u001b[0m\u001b[0;34m)\u001b[0m\u001b[0;34m\u001b[0m\u001b[0;34m\u001b[0m\u001b[0m\n\u001b[0m\u001b[1;32m    177\u001b[0m \u001b[0;34m\u001b[0m\u001b[0m\n\u001b[1;32m    178\u001b[0m \u001b[0;34m\u001b[0m\u001b[0m\n",
            "\u001b[0;32m/usr/local/lib/python3.7/dist-packages/sklearn/tree/_export.py\u001b[0m in \u001b[0;36mexport\u001b[0;34m(self, decision_tree, ax)\u001b[0m\n\u001b[1;32m    565\u001b[0m         \u001b[0max\u001b[0m\u001b[0;34m.\u001b[0m\u001b[0mset_axis_off\u001b[0m\u001b[0;34m(\u001b[0m\u001b[0;34m)\u001b[0m\u001b[0;34m\u001b[0m\u001b[0;34m\u001b[0m\u001b[0m\n\u001b[1;32m    566\u001b[0m         my_tree = self._make_tree(0, decision_tree.tree_,\n\u001b[0;32m--> 567\u001b[0;31m                                   decision_tree.criterion)\n\u001b[0m\u001b[1;32m    568\u001b[0m         \u001b[0mdraw_tree\u001b[0m \u001b[0;34m=\u001b[0m \u001b[0mbuchheim\u001b[0m\u001b[0;34m(\u001b[0m\u001b[0mmy_tree\u001b[0m\u001b[0;34m)\u001b[0m\u001b[0;34m\u001b[0m\u001b[0;34m\u001b[0m\u001b[0m\n\u001b[1;32m    569\u001b[0m \u001b[0;34m\u001b[0m\u001b[0m\n",
            "\u001b[0;32m/usr/local/lib/python3.7/dist-packages/sklearn/tree/_export.py\u001b[0m in \u001b[0;36m_make_tree\u001b[0;34m(self, node_id, et, criterion, depth)\u001b[0m\n\u001b[1;32m    546\u001b[0m         \u001b[0;31m# traverses _tree.Tree recursively, builds intermediate\u001b[0m\u001b[0;34m\u001b[0m\u001b[0;34m\u001b[0m\u001b[0;34m\u001b[0m\u001b[0m\n\u001b[1;32m    547\u001b[0m         \u001b[0;31m# \"_reingold_tilford.Tree\" object\u001b[0m\u001b[0;34m\u001b[0m\u001b[0;34m\u001b[0m\u001b[0;34m\u001b[0m\u001b[0m\n\u001b[0;32m--> 548\u001b[0;31m         \u001b[0mname\u001b[0m \u001b[0;34m=\u001b[0m \u001b[0mself\u001b[0m\u001b[0;34m.\u001b[0m\u001b[0mnode_to_str\u001b[0m\u001b[0;34m(\u001b[0m\u001b[0met\u001b[0m\u001b[0;34m,\u001b[0m \u001b[0mnode_id\u001b[0m\u001b[0;34m,\u001b[0m \u001b[0mcriterion\u001b[0m\u001b[0;34m=\u001b[0m\u001b[0mcriterion\u001b[0m\u001b[0;34m)\u001b[0m\u001b[0;34m\u001b[0m\u001b[0;34m\u001b[0m\u001b[0m\n\u001b[0m\u001b[1;32m    549\u001b[0m         if (et.children_left[node_id] != _tree.TREE_LEAF\n\u001b[1;32m    550\u001b[0m                 and (self.max_depth is None or depth <= self.max_depth)):\n",
            "\u001b[0;32m/usr/local/lib/python3.7/dist-packages/sklearn/tree/_export.py\u001b[0m in \u001b[0;36mnode_to_str\u001b[0;34m(self, tree, node_id, criterion)\u001b[0m\n\u001b[1;32m    267\u001b[0m             \u001b[0;31m# Always write node decision criteria, except for leaves\u001b[0m\u001b[0;34m\u001b[0m\u001b[0;34m\u001b[0m\u001b[0;34m\u001b[0m\u001b[0m\n\u001b[1;32m    268\u001b[0m             \u001b[0;32mif\u001b[0m \u001b[0mself\u001b[0m\u001b[0;34m.\u001b[0m\u001b[0mfeature_names\u001b[0m \u001b[0;32mis\u001b[0m \u001b[0;32mnot\u001b[0m \u001b[0;32mNone\u001b[0m\u001b[0;34m:\u001b[0m\u001b[0;34m\u001b[0m\u001b[0;34m\u001b[0m\u001b[0m\n\u001b[0;32m--> 269\u001b[0;31m                 \u001b[0mfeature\u001b[0m \u001b[0;34m=\u001b[0m \u001b[0mself\u001b[0m\u001b[0;34m.\u001b[0m\u001b[0mfeature_names\u001b[0m\u001b[0;34m[\u001b[0m\u001b[0mtree\u001b[0m\u001b[0;34m.\u001b[0m\u001b[0mfeature\u001b[0m\u001b[0;34m[\u001b[0m\u001b[0mnode_id\u001b[0m\u001b[0;34m]\u001b[0m\u001b[0;34m]\u001b[0m\u001b[0;34m\u001b[0m\u001b[0;34m\u001b[0m\u001b[0m\n\u001b[0m\u001b[1;32m    270\u001b[0m             \u001b[0;32melse\u001b[0m\u001b[0;34m:\u001b[0m\u001b[0;34m\u001b[0m\u001b[0;34m\u001b[0m\u001b[0m\n\u001b[1;32m    271\u001b[0m                 feature = \"X%s%s%s\" % (characters[1],\n",
            "\u001b[0;31mTypeError\u001b[0m: 'set' object is not subscriptable"
          ]
        },
        {
          "output_type": "display_data",
          "data": {
            "image/png": "[encoded data removed]",
            "text/plain": [
              "<Figure size 1440x1440 with 1 Axes>"
            ]
          },
          "metadata": {
            "needs_background": "light"
          }
        }
      ]
    },
    {
      "cell_type": "markdown",
      "metadata": {
        "id": "3a7bvUNkUC1d"
      },
      "source": [
        "## Evaluate Model"
      ]
    },
    {
      "cell_type": "code",
      "metadata": {
        "id": "9OCKwew0UavV"
      },
      "source": [
        "# make predictions\n",
        "y_pred = model.predict(X_train)"
      ],
      "execution_count": null,
      "outputs": []
    },
    {
      "cell_type": "code",
      "metadata": {
        "id": "Nw6xHyn5Sf9Y"
      },
      "source": [
        "# construct results dataframe\n",
        "test_result = pd.DataFrame(data={'y_act':y_train, 'y_pred':y_pred})\n",
        "test_result.sample(5)"
      ],
      "execution_count": null,
      "outputs": []
    },
    {
      "cell_type": "code",
      "metadata": {
        "id": "icrFhpd9UfbI"
      },
      "source": [
        "#############################################################\n",
        "# Task 11: create confusion matrix\n",
        "cfm = pd.crosstab(test_result['y_act'], test_result['y_pred'], margins=True)\n",
        "#############################################################\n",
        "cfm"
      ],
      "execution_count": null,
      "outputs": []
    },
    {
      "cell_type": "code",
      "metadata": {
        "id": "6dRIaPtIUmnI"
      },
      "source": [
        "#############################################################\n",
        "# Task 12: Compute accuracy \n",
        "acuracy_tc = metrics.accuracy_score(test_result['y_act'], test_result['y_pred']) \n",
        "#############################################################\n",
        "acuracy_tc"
      ],
      "execution_count": null,
      "outputs": []
    },
    {
      "cell_type": "markdown",
      "metadata": {
        "id": "zboZ9_7qao8t"
      },
      "source": [
        "## Feature Importance"
      ]
    },
    {
      "cell_type": "code",
      "metadata": {
        "id": "dm9BOBcvYqUh"
      },
      "source": [
        "pd.DataFrame({'Feature': X_variables, 'Importance': model.feature_importances_}).sort_values(by='Importance', ascending=False)"
      ],
      "execution_count": null,
      "outputs": []
    },
    {
      "cell_type": "markdown",
      "metadata": {
        "id": "wQTrDDlMcCR_"
      },
      "source": [
        "<hr>\n",
        "Last update 2021-10-24 by Sumudu Tennakoon"
      ]
    }
  ]
}